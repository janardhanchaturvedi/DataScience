{
 "cells": [
  {
   "cell_type": "markdown",
   "id": "c4bc9762",
   "metadata": {},
   "source": [
    "# import the necessary library"
   ]
  },
  {
   "cell_type": "code",
   "execution_count": 1,
   "id": "8b42b831",
   "metadata": {},
   "outputs": [],
   "source": [
    "import pandas as pd \n",
    "from sklearn.feature_extraction.text import TfidfVectorizer"
   ]
  },
  {
   "cell_type": "markdown",
   "id": "c7740174",
   "metadata": {},
   "source": [
    "# User defined dataset ( Two simple documents containing one sentence each)"
   ]
  },
  {
   "cell_type": "code",
   "execution_count": 2,
   "id": "ebd8114e",
   "metadata": {},
   "outputs": [],
   "source": [
    "documentA = 'the man went out for a walk '\n",
    "documentB = 'the children sat around the fire'\n"
   ]
  },
  {
   "cell_type": "markdown",
   "id": "f385b473",
   "metadata": {},
   "source": [
    "# BoW(To convert text into vectors of numbers)"
   ]
  },
  {
   "cell_type": "code",
   "execution_count": 3,
   "id": "15018185",
   "metadata": {},
   "outputs": [
    {
     "name": "stdout",
     "output_type": "stream",
     "text": [
      "['the', 'man', 'went', 'out', 'for', 'a', 'walk', '']\n",
      "['the', 'children', 'sat', 'around', 'the', 'fire']\n"
     ]
    }
   ],
   "source": [
    "#spilts two documents in individuals words\n",
    "bagOfWordsA = documentA.split(' ')\n",
    "bagOfWordsB = documentB.split(' ')\n",
    "\n",
    "print(bagOfWordsA)\n",
    "print(bagOfWordsB)\n",
    "\n"
   ]
  },
  {
   "cell_type": "code",
   "execution_count": 4,
   "id": "524c1c4d",
   "metadata": {},
   "outputs": [],
   "source": [
    "#remove any duplicate words\n",
    "\n",
    "uniqueWords = set(bagOfWordsA).union(set(bagOfWordsB))"
   ]
  },
  {
   "cell_type": "code",
   "execution_count": 5,
   "id": "21c248af",
   "metadata": {},
   "outputs": [
    {
     "name": "stdout",
     "output_type": "stream",
     "text": [
      "{'': 0, 'fire': 0, 'walk': 0, 'around': 0, 'out': 0, 'a': 0, 'went': 0, 'children': 0, 'for': 0, 'sat': 0, 'the': 0, 'man': 0}\n"
     ]
    }
   ],
   "source": [
    "#Creater a dictnoary of words and their occurence for each documents in the cor\n",
    "\n",
    "numOfWordsA = dict.fromkeys(uniqueWords,0)\n",
    "print(numOfWordsA)"
   ]
  },
  {
   "cell_type": "code",
   "execution_count": 6,
   "id": "cc697642",
   "metadata": {},
   "outputs": [
    {
     "name": "stdout",
     "output_type": "stream",
     "text": [
      "      fire  walk  around  out  a  went  children  for  sat  the  man\n",
      "0  1     0     1       0    1  1     1         0    1    0    1    1\n",
      "1  0     1     0       1    0  0     0         1    0    1    2    0\n"
     ]
    }
   ],
   "source": [
    "numOfWordsA = dict.fromkeys(uniqueWords,0)\n",
    "\n",
    "for word in bagOfWordsA:\n",
    "    numOfWordsA[word] += 1\n",
    "    \n",
    "numOfWordsB = dict.fromkeys(uniqueWords,0)\n",
    "\n",
    "for word in bagOfWordsB:\n",
    "    numOfWordsB[word] += 1\n",
    "    \n",
    "df = pd.DataFrame([numOfWordsA,numOfWordsB])\n",
    "print(df)"
   ]
  },
  {
   "cell_type": "code",
   "execution_count": 7,
   "id": "b279e1c6",
   "metadata": {},
   "outputs": [
    {
     "data": {
      "text/plain": [
       "dict_items([('', 0), ('fire', 1), ('walk', 0), ('around', 1), ('out', 0), ('a', 0), ('went', 0), ('children', 1), ('for', 0), ('sat', 1), ('the', 2), ('man', 0)])"
      ]
     },
     "execution_count": 7,
     "metadata": {},
     "output_type": "execute_result"
    }
   ],
   "source": [
    "numOfWordsB.items()"
   ]
  },
  {
   "cell_type": "markdown",
   "id": "8f95ac75",
   "metadata": {},
   "source": [
    "# Term Frequency (TF)"
   ]
  },
  {
   "cell_type": "code",
   "execution_count": 10,
   "id": "0c6eb514",
   "metadata": {},
   "outputs": [],
   "source": [
    "def computeTF(wordDict , bagOfWords):\n",
    "    tfDict = {}\n",
    "    bagOfWordsCount = len(bagOfWords)\n",
    "    for word , count in wordDict.items():\n",
    "        tfDict[word]= count/ float(bagOfWordsCount)\n",
    "    return tfDict"
   ]
  },
  {
   "cell_type": "code",
   "execution_count": 12,
   "id": "002953fe",
   "metadata": {},
   "outputs": [
    {
     "data": {
      "text/plain": [
       "{'': 0.0,\n",
       " 'fire': 0.16666666666666666,\n",
       " 'walk': 0.0,\n",
       " 'around': 0.16666666666666666,\n",
       " 'out': 0.0,\n",
       " 'a': 0.0,\n",
       " 'went': 0.0,\n",
       " 'children': 0.16666666666666666,\n",
       " 'for': 0.0,\n",
       " 'sat': 0.16666666666666666,\n",
       " 'the': 0.3333333333333333,\n",
       " 'man': 0.0}"
      ]
     },
     "execution_count": 12,
     "metadata": {},
     "output_type": "execute_result"
    }
   ],
   "source": [
    "#computer the term Frequecy for each of Documents\n",
    "\n",
    "tfA = computeTF(numOfWordsA , bagOfWordsA)\n",
    "tfB = computeTF(numOfWordsB, bagOfWordsB)\n",
    "\n",
    "tfA\n",
    "tfB"
   ]
  },
  {
   "cell_type": "markdown",
   "id": "6ef48448",
   "metadata": {},
   "source": [
    "# Inverse Data frequency (IDF)"
   ]
  },
  {
   "cell_type": "code",
   "execution_count": 16,
   "id": "9628145e",
   "metadata": {},
   "outputs": [],
   "source": [
    "def computeIDF(documents):\n",
    "    import math\n",
    "    N = len(documents)\n",
    "    \n",
    "    idfDict = dict.fromkeys(documents[0].keys(),0)\n",
    "    for document in documents:\n",
    "        for word, val in document.items():\n",
    "            if val > 0:\n",
    "                idfDict[word] += 1\n",
    "                \n",
    "    for word, val in idfDict.items():\n",
    "        idfDict[word] = math.log(N/float(val))\n",
    "        \n",
    "    return idfDict"
   ]
  },
  {
   "cell_type": "code",
   "execution_count": 18,
   "id": "f125d17d",
   "metadata": {},
   "outputs": [
    {
     "name": "stdout",
     "output_type": "stream",
     "text": [
      "{'': 0.6931471805599453, 'fire': 0.6931471805599453, 'walk': 0.6931471805599453, 'around': 0.6931471805599453, 'out': 0.6931471805599453, 'a': 0.6931471805599453, 'went': 0.6931471805599453, 'children': 0.6931471805599453, 'for': 0.6931471805599453, 'sat': 0.6931471805599453, 'the': 0.0, 'man': 0.6931471805599453}                  fire      walk    around       out         a      went  \\\n",
      "0  0.693147  0.693147  0.693147  0.693147  0.693147  0.693147  0.693147   \n",
      "\n",
      "   children       for       sat  the       man  \n",
      "0  0.693147  0.693147  0.693147  0.0  0.693147  \n"
     ]
    }
   ],
   "source": [
    "# The  IDF is computed once for all documents\n",
    "\n",
    "idfs = computeIDF([numOfWordsA,numOfWordsB])\n",
    "df = pd.DataFrame([idfs])\n",
    "\n",
    "print(idfs,df)\n"
   ]
  },
  {
   "cell_type": "code",
   "execution_count": 21,
   "id": "6019118b",
   "metadata": {},
   "outputs": [],
   "source": [
    "# the TF-IDf is simply the TF multiplied by IDF\n",
    "\n",
    "def computeTFIDF(tfBagOfWords, idfs):\n",
    "    tfidf = {}\n",
    "    for word , val in tfBagOfWords.items():\n",
    "        tfidf[word] = val * idfs[word]\n",
    "        \n",
    "    return tfidf"
   ]
  },
  {
   "cell_type": "code",
   "execution_count": 24,
   "id": "861a81c9",
   "metadata": {},
   "outputs": [],
   "source": [
    " #computer the TF- IDf scores for all the words in the corpus\n",
    "\n",
    "tfidfA = computeTFIDF(tfA, idfs)\n",
    "tfidfB = computeTFIDF(tfB, idfs)\n",
    "df = pd.DataFrame([tfidfA,tfidfB])"
   ]
  },
  {
   "cell_type": "code",
   "execution_count": 25,
   "id": "a129ff2f",
   "metadata": {},
   "outputs": [
    {
     "name": "stdout",
     "output_type": "stream",
     "text": [
      "                 fire      walk    around       out         a      went  \\\n",
      "0  0.086643  0.000000  0.086643  0.000000  0.086643  0.086643  0.086643   \n",
      "1  0.000000  0.115525  0.000000  0.115525  0.000000  0.000000  0.000000   \n",
      "\n",
      "   children       for       sat  the       man  \n",
      "0  0.000000  0.086643  0.000000  0.0  0.086643  \n",
      "1  0.115525  0.000000  0.115525  0.0  0.000000  \n"
     ]
    }
   ],
   "source": [
    "print(df)"
   ]
  },
  {
   "cell_type": "code",
   "execution_count": null,
   "id": "32e3900a",
   "metadata": {},
   "outputs": [],
   "source": []
  }
 ],
 "metadata": {
  "kernelspec": {
   "display_name": "Python 3 (ipykernel)",
   "language": "python",
   "name": "python3"
  },
  "language_info": {
   "codemirror_mode": {
    "name": "ipython",
    "version": 3
   },
   "file_extension": ".py",
   "mimetype": "text/x-python",
   "name": "python",
   "nbconvert_exporter": "python",
   "pygments_lexer": "ipython3",
   "version": "3.9.12"
  }
 },
 "nbformat": 4,
 "nbformat_minor": 5
}
