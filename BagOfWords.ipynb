{
 "cells": [
  {
   "cell_type": "markdown",
   "id": "062fcf77",
   "metadata": {},
   "source": [
    "# import the necessary library"
   ]
  },
  {
   "cell_type": "code",
   "execution_count": 1,
   "id": "d6d1dd40",
   "metadata": {},
   "outputs": [],
   "source": [
    "import pandas as pd \n",
    "from sklearn.feature_extraction.text import TfidfVectorizer"
   ]
  },
  {
   "cell_type": "markdown",
   "id": "ae52f5e5",
   "metadata": {},
   "source": [
    "# User defined dataset ( Two simple documents containing one sentence each)"
   ]
  },
  {
   "cell_type": "code",
   "execution_count": 2,
   "id": "c98cbf67",
   "metadata": {},
   "outputs": [],
   "source": [
    "documentA = 'the man went out for a walk '\n",
    "documentB = 'the children sat around the fire'\n"
   ]
  },
  {
   "cell_type": "markdown",
   "id": "5ece35fa",
   "metadata": {},
   "source": [
    "# BoW(To convert text into vectors of numbers)"
   ]
  },
  {
   "cell_type": "code",
   "execution_count": 3,
   "id": "40d7cc89",
   "metadata": {},
   "outputs": [
    {
     "name": "stdout",
     "output_type": "stream",
     "text": [
      "['the', 'man', 'went', 'out', 'for', 'a', 'walk', '']\n",
      "['the', 'children', 'sat', 'around', 'the', 'fire']\n"
     ]
    }
   ],
   "source": [
    "#spilts two documents in individuals words\n",
    "bagOfWordsA = documentA.split(' ')\n",
    "bagOfWordsB = documentB.split(' ')\n",
    "\n",
    "print(bagOfWordsA)\n",
    "print(bagOfWordsB)\n",
    "\n"
   ]
  },
  {
   "cell_type": "code",
   "execution_count": 4,
   "id": "e3240a41",
   "metadata": {},
   "outputs": [],
   "source": [
    "#remove any duplicate words\n",
    "\n",
    "uniqueWords = set(bagOfWordsA).union(set(bagOfWordsB))"
   ]
  },
  {
   "cell_type": "code",
   "execution_count": 5,
   "id": "d38ab535",
   "metadata": {},
   "outputs": [
    {
     "name": "stdout",
     "output_type": "stream",
     "text": [
      "{'': 0, 'fire': 0, 'walk': 0, 'around': 0, 'out': 0, 'a': 0, 'went': 0, 'children': 0, 'for': 0, 'sat': 0, 'the': 0, 'man': 0}\n"
     ]
    }
   ],
   "source": [
    "#Creater a dictnoary of words and their occurence for each documents in the cor\n",
    "\n",
    "numOfWordsA = dict.fromkeys(uniqueWords,0)\n",
    "print(numOfWordsA)"
   ]
  },
  {
   "cell_type": "code",
   "execution_count": 6,
   "id": "17249c9a",
   "metadata": {},
   "outputs": [
    {
     "name": "stdout",
     "output_type": "stream",
     "text": [
      "      fire  walk  around  out  a  went  children  for  sat  the  man\n",
      "0  1     0     1       0    1  1     1         0    1    0    1    1\n",
      "1  0     1     0       1    0  0     0         1    0    1    2    0\n"
     ]
    }
   ],
   "source": [
    "numOfWordsA = dict.fromkeys(uniqueWords,0)\n",
    "\n",
    "for word in bagOfWordsA:\n",
    "    numOfWordsA[word] += 1\n",
    "    \n",
    "numOfWordsB = dict.fromkeys(uniqueWords,0)\n",
    "\n",
    "for word in bagOfWordsB:\n",
    "    numOfWordsB[word] += 1\n",
    "    \n",
    "df = pd.DataFrame([numOfWordsA,numOfWordsB])\n",
    "print(df)"
   ]
  },
  {
   "cell_type": "code",
   "execution_count": 7,
   "id": "df580451",
   "metadata": {},
   "outputs": [
    {
     "data": {
      "text/plain": [
       "dict_items([('', 0), ('fire', 1), ('walk', 0), ('around', 1), ('out', 0), ('a', 0), ('went', 0), ('children', 1), ('for', 0), ('sat', 1), ('the', 2), ('man', 0)])"
      ]
     },
     "execution_count": 7,
     "metadata": {},
     "output_type": "execute_result"
    }
   ],
   "source": [
    "numOfWordsB.items()"
   ]
  },
  {
   "cell_type": "markdown",
   "id": "5da4f2c3",
   "metadata": {},
   "source": [
    "# Term Frequency (TF)"
   ]
  },
  {
   "cell_type": "code",
   "execution_count": 10,
   "id": "cdc49c75",
   "metadata": {},
   "outputs": [],
   "source": [
    "def computeTF(wordDict , bagOfWords):\n",
    "    tfDict = {}\n",
    "    bagOfWordsCount = len(bagOfWords)\n",
    "    for word , count in wordDict.items():\n",
    "        tfDict[word]= count/ float(bagOfWordsCount)\n",
    "    return tfDict"
   ]
  },
  {
   "cell_type": "code",
   "execution_count": 12,
   "id": "31adab57",
   "metadata": {},
   "outputs": [
    {
     "data": {
      "text/plain": [
       "{'': 0.0,\n",
       " 'fire': 0.16666666666666666,\n",
       " 'walk': 0.0,\n",
       " 'around': 0.16666666666666666,\n",
       " 'out': 0.0,\n",
       " 'a': 0.0,\n",
       " 'went': 0.0,\n",
       " 'children': 0.16666666666666666,\n",
       " 'for': 0.0,\n",
       " 'sat': 0.16666666666666666,\n",
       " 'the': 0.3333333333333333,\n",
       " 'man': 0.0}"
      ]
     },
     "execution_count": 12,
     "metadata": {},
     "output_type": "execute_result"
    }
   ],
   "source": [
    "#computer the term Frequecy for each of Documents\n",
    "\n",
    "tfA = computeTF(numOfWordsA , bagOfWordsA)\n",
    "tfB = computeTF(numOfWordsB, bagOfWordsB)\n",
    "\n",
    "tfA\n",
    "tfB"
   ]
  },
  {
   "cell_type": "markdown",
   "id": "cd53fcde",
   "metadata": {},
   "source": [
    "# Inverse Data frequency (IDF)"
   ]
  },
  {
   "cell_type": "code",
   "execution_count": 16,
   "id": "2624583f",
   "metadata": {},
   "outputs": [],
   "source": [
    "def computeIDF(documents):\n",
    "    import math\n",
    "    N = len(documents)\n",
    "    \n",
    "    idfDict = dict.fromkeys(documents[0].keys(),0)\n",
    "    for document in documents:\n",
    "        for word, val in document.items():\n",
    "            if val > 0:\n",
    "                idfDict[word] += 1\n",
    "                \n",
    "    for word, val in idfDict.items():\n",
    "        idfDict[word] = math.log(N/float(val))\n",
    "        \n",
    "    return idfDict"
   ]
  },
  {
   "cell_type": "code",
   "execution_count": 18,
   "id": "1a5b2ef7",
   "metadata": {},
   "outputs": [
    {
     "name": "stdout",
     "output_type": "stream",
     "text": [
      "{'': 0.6931471805599453, 'fire': 0.6931471805599453, 'walk': 0.6931471805599453, 'around': 0.6931471805599453, 'out': 0.6931471805599453, 'a': 0.6931471805599453, 'went': 0.6931471805599453, 'children': 0.6931471805599453, 'for': 0.6931471805599453, 'sat': 0.6931471805599453, 'the': 0.0, 'man': 0.6931471805599453}                  fire      walk    around       out         a      went  \\\n",
      "0  0.693147  0.693147  0.693147  0.693147  0.693147  0.693147  0.693147   \n",
      "\n",
      "   children       for       sat  the       man  \n",
      "0  0.693147  0.693147  0.693147  0.0  0.693147  \n"
     ]
    }
   ],
   "source": [
    "# The  IDF is computed once for all documents\n",
    "\n",
    "idfs = computeIDF([numOfWordsA,numOfWordsB])\n",
    "df = pd.DataFrame([idfs])\n",
    "\n",
    "print(idfs,df)\n"
   ]
  },
  {
   "cell_type": "code",
   "execution_count": null,
   "id": "6fe96ef9",
   "metadata": {},
   "outputs": [],
   "source": []
  }
 ],
 "metadata": {
  "kernelspec": {
   "display_name": "Python 3 (ipykernel)",
   "language": "python",
   "name": "python3"
  },
  "language_info": {
   "codemirror_mode": {
    "name": "ipython",
    "version": 3
   },
   "file_extension": ".py",
   "mimetype": "text/x-python",
   "name": "python",
   "nbconvert_exporter": "python",
   "pygments_lexer": "ipython3",
   "version": "3.9.12"
  }
 },
 "nbformat": 4,
 "nbformat_minor": 5
}
