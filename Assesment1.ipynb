{
 "cells": [
  {
   "cell_type": "code",
   "execution_count": 10,
   "id": "ddbea390",
   "metadata": {},
   "outputs": [
    {
     "ename": "SyntaxError",
     "evalue": "unexpected EOF while parsing (3266145675.py, line 7)",
     "output_type": "error",
     "traceback": [
      "\u001b[1;36m  Input \u001b[1;32mIn [10]\u001b[1;36m\u001b[0m\n\u001b[1;33m    \u001b[0m\n\u001b[1;37m    ^\u001b[0m\n\u001b[1;31mSyntaxError\u001b[0m\u001b[1;31m:\u001b[0m unexpected EOF while parsing\n"
     ]
    }
   ],
   "source": [
    "def swapList(newList):\n",
    "    newList[0], newList[-1] = newList[-1], newList[0]\n",
    "return newList\n",
    "# Driver code\n",
    "newList = [12, 35, 9, 56, 24]\n",
    "print(swapList(newList)\n",
    "      "
   ]
  },
  {
   "cell_type": "code",
   "execution_count": 9,
   "id": "6f57bc9b",
   "metadata": {},
   "outputs": [
    {
     "name": "stdout",
     "output_type": "stream",
     "text": [
      "The length of list is:  3\n"
     ]
    }
   ],
   "source": [
    " #Python program to demonstrate working\n",
    "# of len()\n",
    "n = len([10, 20, 30])\n",
    "print(\"The length of list is: \", n)"
   ]
  },
  {
   "cell_type": "code",
   "execution_count": 11,
   "id": "c17b6b5b",
   "metadata": {},
   "outputs": [
    {
     "name": "stdout",
     "output_type": "stream",
     "text": [
      "5.0\n"
     ]
    }
   ],
   "source": [
    "# import the important module in python\n",
    "import numpy as np\n",
    "# make a matrix with numpy\n",
    "gfg = np.matrix('[1, 2, 3; 4, 5, 6; 7, 8,9]')\n",
    "# applying matrix.mean() method\n",
    "geeks = gfg.mean()\n",
    "print(geeks)\n"
   ]
  },
  {
   "cell_type": "code",
   "execution_count": 13,
   "id": "c82a84b3",
   "metadata": {},
   "outputs": [
    {
     "name": "stdout",
     "output_type": "stream",
     "text": [
      "[17, 15, 4]\n",
      "[10, 12, 9]\n",
      "[11, 13, 18]\n"
     ]
    }
   ],
   "source": [
    "X = [[12,7,3],\n",
    "[4 ,5,6],\n",
    "[7 ,8,9]]\n",
    "Y = [[5,8,1],\n",
    "[6,7,3],\n",
    "[4,5,9]]\n",
    "result = [[X[i][j] + Y[i][j] for j in range(len(X[0]))] for i in range(len(X))]\n",
    "for r in result:\n",
    "    print(r)"
   ]
  },
  {
   "cell_type": "code",
   "execution_count": 14,
   "id": "2f5699ad",
   "metadata": {},
   "outputs": [
    {
     "data": {
      "image/png": "[encoded data removed]",
      "text/plain": [
       "<Figure size 432x288 with 1 Axes>"
      ]
     },
     "metadata": {
      "needs_background": "light"
     },
     "output_type": "display_data"
    }
   ],
   "source": [
    "import matplotlib.pyplot as plt\n",
    "x = ['A', 'B', 'C']\n",
    "y = [1, 5, 3]\n",
    "plt.bar(x, y)\n",
    "plt.show()"
   ]
  },
  {
   "cell_type": "code",
   "execution_count": 15,
   "id": "cc9b3728",
   "metadata": {},
   "outputs": [
    {
     "name": "stdout",
     "output_type": "stream",
     "text": [
      "Original list 1 : [1, 3, 4, 6, 8]\n",
      "Original list 2 : [4, 5, 6, 2, 10]\n",
      "Resultant list is : [5, 8, 10, 8, 18]\n"
     ]
    }
   ],
   "source": [
    "# Python code to demonstrate \n",
    "# addition of two list \n",
    "# naive method \n",
    "# initializing lists\n",
    "test_list1 = [1, 3, 4, 6, 8]\n",
    "test_list2 = [4, 5, 6, 2, 10]\n",
    "# printing original lists\n",
    "print (\"Original list 1 : \" + str(test_list1))\n",
    "print (\"Original list 2 : \" + str(test_list2))\n",
    "# using naive method to \n",
    "# add two list \n",
    "res_list = []\n",
    "for i in range(0, len(test_list1)):\n",
    " res_list.append(test_list1[i] + test_list2[i])\n",
    "# printing resultant list \n",
    "print (\"Resultant list is : \" + str(res_list))"
   ]
  },
  {
   "cell_type": "code",
   "execution_count": null,
   "id": "81575cec",
   "metadata": {},
   "outputs": [],
   "source": []
  }
 ],
 "metadata": {
  "kernelspec": {
   "display_name": "Python 3 (ipykernel)",
   "language": "python",
   "name": "python3"
  },
  "language_info": {
   "codemirror_mode": {
    "name": "ipython",
    "version": 3
   },
   "file_extension": ".py",
   "mimetype": "text/x-python",
   "name": "python",
   "nbconvert_exporter": "python",
   "pygments_lexer": "ipython3",
   "version": "3.9.12"
  }
 },
 "nbformat": 4,
 "nbformat_minor": 5
}
